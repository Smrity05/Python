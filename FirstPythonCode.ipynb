{
  "nbformat": 4,
  "nbformat_minor": 0,
  "metadata": {
    "colab": {
      "provenance": [],
      "authorship_tag": "ABX9TyPZGTKWQ7l9mCs+VqOJy3sl",
      "include_colab_link": true
    },
    "kernelspec": {
      "name": "python3",
      "display_name": "Python 3"
    },
    "language_info": {
      "name": "python"
    }
  },
  "cells": [
    {
      "cell_type": "markdown",
      "metadata": {
        "id": "view-in-github",
        "colab_type": "text"
      },
      "source": [
        "<a href=\"https://colab.research.google.com/github/Smrity05/Python/blob/main/FirstPythonCode.ipynb\" target=\"_parent\"><img src=\"https://colab.research.google.com/assets/colab-badge.svg\" alt=\"Open In Colab\"/></a>"
      ]
    },
    {
      "cell_type": "markdown",
      "source": [
        "WAP in Python asking user for their name and age"
      ],
      "metadata": {
        "id": "vcqaYsK-FMEf"
      }
    },
    {
      "cell_type": "code",
      "source": [
        "\n",
        "name = input(\"Enter your name: \")\n",
        "age = int(input(\"Enter your age: \"))\n",
        "print(name,age)\n",
        "\n",
        "#Store the details in dictionary\n",
        "user_info = {\"Name\":name,\"Age\":age}\n",
        "\n",
        "print(\"\\nUser data Saved successfully \")\n",
        "\n",
        "print(\"User name is\",user_info[\"Name\"], \"and User age is\",user_info[\"Age\"])\n",
        "\n",
        "#with open(\"user_data.text\",\"w\") as file\n",
        "\n",
        "\n",
        "#Function to check if age is even or odd\n",
        "def check_even_odd(num):\n",
        "  if num %2 == 0:\n",
        "    return \"Even\"\n",
        "  else:\n",
        "    return \"Odd\"\n",
        "\n",
        "print(\"your age \",age, \"is\", check_even_odd(age))\n",
        "\n",
        "#Function to reverse the user name\n",
        "def reverse_Username(name):\n",
        "  reverse = \"\"\n",
        "  for ch in name:\n",
        "    reverse = ch+reverse\n",
        "  return reverse\n",
        "\n",
        "print(\"Reversed name for user\",user_info[\"Name\"], \"is :\",reverse_Username(user_info[\"Name\"]))"
      ],
      "metadata": {
        "colab": {
          "base_uri": "https://localhost:8080/"
        },
        "id": "ovag8AbSFYpS",
        "outputId": "4b87bccf-d5ee-4d81-aa1d-29c5f6772121"
      },
      "execution_count": 9,
      "outputs": [
        {
          "output_type": "stream",
          "name": "stdout",
          "text": [
            "Enter your name: smrity\n",
            "Enter your age: 28\n",
            "smrity 28\n",
            "\n",
            "User data Saved successfully \n",
            "User name is smrity and User age is 28\n",
            "your age  28 is Even\n",
            "Reversed name for user smrity is : ytirms\n"
          ]
        }
      ]
    },
    {
      "cell_type": "code",
      "source": [],
      "metadata": {
        "id": "vUYpgwgAcOYJ"
      },
      "execution_count": null,
      "outputs": []
    }
  ]
}