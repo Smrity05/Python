{
  "nbformat": 4,
  "nbformat_minor": 0,
  "metadata": {
    "colab": {
      "provenance": [],
      "authorship_tag": "ABX9TyNZIy3cfBVeNWYC89hKmOw6",
      "include_colab_link": true
    },
    "kernelspec": {
      "name": "python3",
      "display_name": "Python 3"
    },
    "language_info": {
      "name": "python"
    }
  },
  "cells": [
    {
      "cell_type": "markdown",
      "metadata": {
        "id": "view-in-github",
        "colab_type": "text"
      },
      "source": [
        "<a href=\"https://colab.research.google.com/github/Smrity05/Python/blob/main/FirstPythonCode.ipynb\" target=\"_parent\"><img src=\"https://colab.research.google.com/assets/colab-badge.svg\" alt=\"Open In Colab\"/></a>"
      ]
    },
    {
      "cell_type": "markdown",
      "source": [
        "WAP in Python asking user for their name and age"
      ],
      "metadata": {
        "id": "vcqaYsK-FMEf"
      }
    },
    {
      "cell_type": "code",
      "source": [
        "#import json\n",
        "# Get user input\n",
        "name = input(\"Enter your name: \")\n",
        "age = int(input(\"Enter your age: \"))\n",
        "print(name,age)\n",
        "\n",
        "#Store the details in dictionary\n",
        "user_info = {\"Name\":name,\"Age\":age}\n",
        "\n",
        "#Saves the dictionary to a file\n",
        "#with open(\"User_data.json\", \"w\") as file:\n",
        " # json.dump(user_info,file)\n",
        "\n",
        "print(\"\\nUser data Saved successfully \")\n",
        "\n",
        "#Function to check if age is even or odd\n",
        "def check_even_odd(num):\n",
        "  if num %2 == 0:\n",
        "    return \"Even\"\n",
        "  else:\n",
        "    return \"Odd\"\n",
        "\n",
        "print(\"your age \",age, \"is\", check_even_odd(age))"
      ],
      "metadata": {
        "colab": {
          "base_uri": "https://localhost:8080/"
        },
        "id": "ovag8AbSFYpS",
        "outputId": "bbea00a7-4dbd-4ffe-96b4-117baa3ac924"
      },
      "execution_count": 13,
      "outputs": [
        {
          "output_type": "stream",
          "name": "stdout",
          "text": [
            "Enter your name: aditya\n",
            "Enter your age: 35\n",
            "aditya 35\n",
            "\n",
            "User data Saved successfully \n",
            "your age  35 is Odd\n"
          ]
        }
      ]
    }
  ]
}