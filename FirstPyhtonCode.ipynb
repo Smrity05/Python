{
  "nbformat": 4,
  "nbformat_minor": 0,
  "metadata": {
    "colab": {
      "provenance": [],
      "authorship_tag": "ABX9TyNMPF6YGHxwbs1KqTkN40cy",
      "include_colab_link": true
    },
    "kernelspec": {
      "name": "python3",
      "display_name": "Python 3"
    },
    "language_info": {
      "name": "python"
    }
  },
  "cells": [
    {
      "cell_type": "markdown",
      "metadata": {
        "id": "view-in-github",
        "colab_type": "text"
      },
      "source": [
        "<a href=\"https://colab.research.google.com/github/Smrity05/Python/blob/main/FirstPyhtonCode.ipynb\" target=\"_parent\"><img src=\"https://colab.research.google.com/assets/colab-badge.svg\" alt=\"Open In Colab\"/></a>"
      ]
    },
    {
      "cell_type": "markdown",
      "source": [
        "WAP in Python asking user for their name and age"
      ],
      "metadata": {
        "id": "vcqaYsK-FMEf"
      }
    },
    {
      "cell_type": "code",
      "source": [
        "# Get user input\n",
        "name = input(\"Enter your name: \")\n",
        "age = input(\"Enter your age: \")\n",
        "print(name,age)\n",
        "\n",
        "#Store the details in dictionary\n",
        "user_info = {\"Name\":name,\"Age\":age}\n",
        "\n",
        "#Saves the dictionary to a file\n"
      ],
      "metadata": {
        "colab": {
          "base_uri": "https://localhost:8080/"
        },
        "id": "ovag8AbSFYpS",
        "outputId": "16599850-1304-478a-ccbe-6edc2593a3c7"
      },
      "execution_count": 5,
      "outputs": [
        {
          "output_type": "stream",
          "name": "stdout",
          "text": [
            "Enter your name: Smrity\n",
            "Enter your age: 24\n",
            "Smrity 24\n"
          ]
        }
      ]
    }
  ]
}