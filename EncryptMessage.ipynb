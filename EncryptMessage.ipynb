{
  "nbformat": 4,
  "nbformat_minor": 0,
  "metadata": {
    "colab": {
      "provenance": [],
      "authorship_tag": "ABX9TyMrTqOy9ip8C87HekIe0ET6",
      "include_colab_link": true
    },
    "kernelspec": {
      "name": "python3",
      "display_name": "Python 3"
    },
    "language_info": {
      "name": "python"
    }
  },
  "cells": [
    {
      "cell_type": "markdown",
      "metadata": {
        "id": "view-in-github",
        "colab_type": "text"
      },
      "source": [
        "<a href=\"https://colab.research.google.com/github/Smrity05/Python/blob/main/EncryptMessage.ipynb\" target=\"_parent\"><img src=\"https://colab.research.google.com/assets/colab-badge.svg\" alt=\"Open In Colab\"/></a>"
      ]
    },
    {
      "cell_type": "code",
      "execution_count": 1,
      "metadata": {
        "colab": {
          "base_uri": "https://localhost:8080/"
        },
        "id": "v8vZCBE8_YaC",
        "outputId": "975691d9-4825-4ea9-bacc-27b47a416f3e"
      },
      "outputs": [
        {
          "output_type": "stream",
          "name": "stdout",
          "text": [
            "eht snu sesir ni eht stea\n"
          ]
        }
      ],
      "source": [
        "def rearrange_word(word):\n",
        "    vowels = ['a','e','i','o','u','A','E','I','O','U']\n",
        "    vowel_list = []\n",
        "    consonant_list = []\n",
        "    for char in word:\n",
        "        if char in vowels:\n",
        "            vowel_list.append(char)\n",
        "        else:\n",
        "            consonant_list.append(char)\n",
        "\n",
        "    return \"\".join(consonant_list + vowel_list)\n",
        "\n",
        "\n",
        "def reverse_word(word):\n",
        "    return word[::-1]\n",
        "\n",
        "\n",
        "\n",
        "def encrypt_sentence(msg):\n",
        "    msg = msg.split()\n",
        "    for i in range(0,len(msg)):\n",
        "        if (i+1)%2 == 0:\n",
        "            msg[i] = rearrange_word(msg[i])\n",
        "        else:\n",
        "            msg[i] = reverse_word(msg[i])\n",
        "\n",
        "    return \" \".join(msg)\n",
        "\n",
        "msg = \"the sun rises in the east\"\n",
        "print(encrypt_sentence(msg))\n",
        ""
      ]
    }
  ]
}