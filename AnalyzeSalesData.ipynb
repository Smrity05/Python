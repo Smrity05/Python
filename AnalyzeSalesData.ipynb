{
  "nbformat": 4,
  "nbformat_minor": 0,
  "metadata": {
    "colab": {
      "provenance": [],
      "authorship_tag": "ABX9TyNW0zgtyl0qr4OwZ1CDSGkB",
      "include_colab_link": true
    },
    "kernelspec": {
      "name": "python3",
      "display_name": "Python 3"
    },
    "language_info": {
      "name": "python"
    }
  },
  "cells": [
    {
      "cell_type": "markdown",
      "metadata": {
        "id": "view-in-github",
        "colab_type": "text"
      },
      "source": [
        "<a href=\"https://colab.research.google.com/github/Smrity05/Python/blob/main/AnalyzeSalesData.ipynb\" target=\"_parent\"><img src=\"https://colab.research.google.com/assets/colab-badge.svg\" alt=\"Open In Colab\"/></a>"
      ]
    },
    {
      "cell_type": "code",
      "execution_count": 2,
      "metadata": {
        "colab": {
          "base_uri": "https://localhost:8080/"
        },
        "id": "ShJqEUyMK8if",
        "outputId": "bfcfdeb3-1b06-4cc0-e0ae-a50299d59d0a"
      },
      "outputs": [
        {
          "output_type": "stream",
          "name": "stdout",
          "text": [
            "Enter the number of products:2\n",
            "Enter the product name:Pencil\n",
            "Enter the sales:20000\n",
            "Enter the price:10\n",
            "Enter the product name:Pen\n",
            "Enter the sales:1000\n",
            "Enter the price:100\n",
            "Total sales: 300000\n",
            "Best performing product: Pencil\n",
            "Best sales: 200000\n"
          ]
        }
      ],
      "source": [
        "#Use Case : Analyze sales data to identify the best performing products and calculate total sales without using libraries\n",
        "\n",
        "#Collect data like product name, sales, and price from the user\n",
        "#Calculate total sales and identify the best performing product\n",
        "#Display the result\n",
        "\n",
        "\n",
        "sales = []\n",
        "total_sales = 0\n",
        "best_product = \"\"\n",
        "best_sales = 0\n",
        "n = int(input(\"Enter the number of products:\"))\n",
        "for i in range(n):\n",
        "    product = input(\"Enter the product name:\")\n",
        "    sales.append(product)\n",
        "    sales.append(int(input(\"Enter the sales:\")))\n",
        "    sales.append(int(input(\"Enter the price:\")))\n",
        "\n",
        "for i in range(1,len(sales),3):   #(start,stop,step)\n",
        "    total_sales += sales[i]*sales[i+1]\n",
        "\n",
        "    if sales[i]*sales[i+1] > best_sales:\n",
        "        best_sales = sales[i]*sales[i+1]\n",
        "        best_product = sales[i-1]\n",
        "\n",
        "print(\"Total sales:\",total_sales)\n",
        "\n",
        "print(\"Best performing product:\",best_product)\n",
        "print(\"Best sales:\",best_sales)\n"
      ]
    },
    {
      "cell_type": "code",
      "source": [],
      "metadata": {
        "id": "ueQJsncMLNoT"
      },
      "execution_count": null,
      "outputs": []
    }
  ]
}