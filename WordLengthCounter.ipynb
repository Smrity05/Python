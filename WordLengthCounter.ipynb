{
  "nbformat": 4,
  "nbformat_minor": 0,
  "metadata": {
    "colab": {
      "provenance": [],
      "authorship_tag": "ABX9TyPZplF2EgwtPeDLEjqtCDOk",
      "include_colab_link": true
    },
    "kernelspec": {
      "name": "python3",
      "display_name": "Python 3"
    },
    "language_info": {
      "name": "python"
    }
  },
  "cells": [
    {
      "cell_type": "markdown",
      "metadata": {
        "id": "view-in-github",
        "colab_type": "text"
      },
      "source": [
        "<a href=\"https://colab.research.google.com/github/Smrity05/Python/blob/main/WordLengthCounter.ipynb\" target=\"_parent\"><img src=\"https://colab.research.google.com/assets/colab-badge.svg\" alt=\"Open In Colab\"/></a>"
      ]
    },
    {
      "cell_type": "code",
      "execution_count": null,
      "metadata": {
        "id": "NBNZjqzUE_3r"
      },
      "outputs": [],
      "source": [
        "#wap to return a dictionary with vowels,consonants,others as key and respective number of consonants, vowels and characters as value\n",
        "\n",
        "def vowel_count(sentence):\n",
        "    output = {\"vowels\":0,\"consonants\":0,\"others\":0}\n",
        "    vowels = ['a','e','i','o','u','A','E','I','O','U']\n",
        "    for char in sentence:\n",
        "        if char.isalpha():\n",
        "            if char in vowels:\n",
        "                output[\"vowels\"] += 1\n",
        "            else:\n",
        "                output[\"consonants\"] += 1\n",
        "        else:\n",
        "            output[\"others\"] += 1\n",
        "\n",
        "    return output\n",
        "\n",
        "\n",
        "#wap to return a dictionary with length of words as key and number of words with such length as value\n",
        "\n",
        "def word_length(sentence):\n",
        "    sentence = sentence.split()\n",
        "    output = {}\n",
        "    for word in sentence:\n",
        "        if len(word) in output:\n",
        "            output[len(word)] += 1\n",
        "        else:\n",
        "            output[len(word)] = 1\n",
        "    print(type(output))\n",
        "    return output\n",
        "\n",
        "sentence = \"I love python and it so easy to learn\"\n",
        "print(word_length(sentence))\n",
        "\n",
        "print(vowel_count(sentence))"
      ]
    }
  ]
}