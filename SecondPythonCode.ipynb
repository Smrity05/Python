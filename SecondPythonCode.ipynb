{
  "nbformat": 4,
  "nbformat_minor": 0,
  "metadata": {
    "colab": {
      "provenance": [],
      "authorship_tag": "ABX9TyMgA32XEAZhDq1tjWz9GIzi",
      "include_colab_link": true
    },
    "kernelspec": {
      "name": "python3",
      "display_name": "Python 3"
    },
    "language_info": {
      "name": "python"
    }
  },
  "cells": [
    {
      "cell_type": "markdown",
      "metadata": {
        "id": "view-in-github",
        "colab_type": "text"
      },
      "source": [
        "<a href=\"https://colab.research.google.com/github/Smrity05/Python/blob/main/SecondPythonCode.ipynb\" target=\"_parent\"><img src=\"https://colab.research.google.com/assets/colab-badge.svg\" alt=\"Open In Colab\"/></a>"
      ]
    },
    {
      "cell_type": "code",
      "execution_count": 11,
      "metadata": {
        "id": "GPWQd2jzi4a_",
        "outputId": "5b49f6c6-e9e1-4d48-8159-60eceda8d1f2",
        "colab": {
          "base_uri": "https://localhost:8080/"
        }
      },
      "outputs": [
        {
          "output_type": "stream",
          "name": "stdout",
          "text": [
            "Enter the number of users: 2\n",
            "Enter details for User 1\n",
            "Enter the name for user: arya kumari\n",
            "Enter the age for user: 26\n",
            "Enter details for User 2\n",
            "Enter the name for user: smrity\n",
            "Enter the age for user: 30\n",
            "Users in user_data: User1 {'Username': 'arya kumari', 'Age': 26}\n",
            "Users in user_data: User2 {'Username': 'smrity', 'Age': 30}\n"
          ]
        }
      ],
      "source": [
        "#Enter n User data and store in a list\n",
        "\n",
        "def enter_user_data(n):\n",
        "    user_data = []\n",
        "    print(\"the size of user data list is:\", len(user_data))\n",
        "    for i in range(n):\n",
        "        print(\"Enter details for User\",i)\n",
        "        username = input(\"Enter the name for user:\")\n",
        "        age = int(input(\"Enter the age for user: \"))\n",
        "        user_data.append((username, age))\n",
        "        i+=1\n",
        "    return user_data\n",
        "\n",
        "\n",
        "#Enter n User data and store in a dictionary\n",
        "def collect_user_data(n):\n",
        "    user_data = {}\n",
        "\n",
        "    for i in range(n):\n",
        "        print(\"Enter details for User\", i + 1)\n",
        "        username = input(\"Enter the name for user: \")\n",
        "        age = int(input(\"Enter the age for user: \"))\n",
        "\n",
        "        # Create keys like User1, User2\n",
        "        user_key = \"User\" + str(i + 1)  # e.g., \"User1\", \"User2\"\n",
        "        user_data[user_key] = {\"Username\": username, \"Age\": age}\n",
        "\n",
        "    return user_data\n",
        "\n",
        "\n",
        "def store_and_print_user_data():\n",
        "    # Input number of users\n",
        "    n = int(input(\"Enter the number of users: \"))\n",
        "    # Collect user data\n",
        "    user_data = collect_user_data(n)\n",
        "    for keys,value in user_data.items():\n",
        "      print(\"Users in user_data:\", keys,value)\n",
        "    return user_data\n",
        "\n",
        "# Function Call---------------------------------\n",
        "user_data = store_and_print_user_data()\n",
        "#n = int(input(\"Enter the number of users: \"))\n",
        "#users = enter_user_data(n)"
      ]
    }
  ]
}