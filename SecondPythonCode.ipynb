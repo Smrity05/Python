{
  "nbformat": 4,
  "nbformat_minor": 0,
  "metadata": {
    "colab": {
      "provenance": [],
      "authorship_tag": "ABX9TyNvJ5G7FEWitXfGrpA8VVG7",
      "include_colab_link": true
    },
    "kernelspec": {
      "name": "python3",
      "display_name": "Python 3"
    },
    "language_info": {
      "name": "python"
    }
  },
  "cells": [
    {
      "cell_type": "markdown",
      "metadata": {
        "id": "view-in-github",
        "colab_type": "text"
      },
      "source": [
        "<a href=\"https://colab.research.google.com/github/Smrity05/Python/blob/main/SecondPythonCode.ipynb\" target=\"_parent\"><img src=\"https://colab.research.google.com/assets/colab-badge.svg\" alt=\"Open In Colab\"/></a>"
      ]
    },
    {
      "cell_type": "code",
      "execution_count": 14,
      "metadata": {
        "id": "GPWQd2jzi4a_",
        "colab": {
          "base_uri": "https://localhost:8080/"
        },
        "outputId": "4d6bac20-608a-4e6c-85c4-441afc6004fb"
      },
      "outputs": [
        {
          "output_type": "stream",
          "name": "stdout",
          "text": [
            "Enter the number of users: 2\n",
            "Enter details for User 1\n",
            "Enter the name for user: smrity singh\n",
            "Enter the age for user: 30\n",
            "Enter details for User 2\n",
            "Enter the name for user: arya kumari\n",
            "Enter the age for user: 27\n",
            "Name of User1 is: smrity singh\n",
            "Age of User1 is: 30\n",
            "reverse name for User1 smrity singh is hgnis ytirms\n",
            "Name of User2 is: arya kumari\n",
            "Age of User2 is: 27\n",
            "reverse name for User2 arya kumari is iramuk ayra\n"
          ]
        }
      ],
      "source": [
        "#Enter n User data and store in a list\n",
        "\n",
        "def enter_user_data(n):\n",
        "    user_data = []\n",
        "    print(\"the size of user data list is:\", len(user_data))\n",
        "    for i in range(n):\n",
        "        print(\"Enter details for User\",i)\n",
        "        username = input(\"Enter the name for user:\")\n",
        "        age = int(input(\"Enter the age for user: \"))\n",
        "        user_data.append((username, age))\n",
        "        i+=1\n",
        "    return user_data\n",
        "\n",
        "\n",
        "#Enter n User data and store in a dictionary\n",
        "def collect_user_data(n):\n",
        "    user_data = {}\n",
        "\n",
        "    for i in range(n):\n",
        "        print(\"Enter details for User\", i + 1)\n",
        "        username = input(\"Enter the name for user: \")\n",
        "        age = int(input(\"Enter the age for user: \"))\n",
        "\n",
        "        # Create keys like User1, User2\n",
        "        user_key = \"User\" + str(i + 1)  # e.g., \"User1\", \"User2\"\n",
        "        user_data[user_key] = {\"Username\": username, \"Age\": age}\n",
        "\n",
        "    return user_data\n",
        "\n",
        "\n",
        "def store_and_print_user_data():\n",
        "    # Input number of users\n",
        "    n = int(input(\"Enter the number of users: \"))\n",
        "    # Collect user data\n",
        "    user_data = collect_user_data(n)\n",
        "    for keys,value in user_data.items():\n",
        "      # print(\"Users in user_data:\", keys,value)\n",
        "      print(\"Name of\",keys,\"is:\",value[\"Username\"])\n",
        "      print(\"Age of\",keys,\"is:\",value[\"Age\"])\n",
        "      print(\"reverse name for\",keys,value[\"Username\"],\"is\",reverse_Username(value[\"Username\"]))\n",
        "    return user_data\n",
        "\n",
        "def reverse_Username(name):\n",
        "  reverse = \"\"\n",
        "  for ch in name:\n",
        "    reverse = ch+reverse\n",
        "  return reverse\n",
        "\n",
        "\n",
        "# Function Call---------------------------------\n",
        "user_data = store_and_print_user_data()\n",
        "#n = int(input(\"Enter the number of users: \"))\n",
        "#users = enter_user_data(n)\n",
        "'''\n",
        "#print the list contains\n",
        "print(\"\\nThe list of user data is:\")\n",
        "for user in user_data:\n",
        "    print(f\"Name: {user[0]}, Age: {user[1]}\")\n",
        "'''"
      ]
    },
    {
      "cell_type": "code",
      "source": [],
      "metadata": {
        "id": "OTWBtYtE1zPq"
      },
      "execution_count": null,
      "outputs": []
    }
  ]
}