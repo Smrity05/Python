{
  "nbformat": 4,
  "nbformat_minor": 0,
  "metadata": {
    "colab": {
      "provenance": [],
      "authorship_tag": "ABX9TyOHi3Ps716mTURE2gHJBwH0",
      "include_colab_link": true
    },
    "kernelspec": {
      "name": "python3",
      "display_name": "Python 3"
    },
    "language_info": {
      "name": "python"
    }
  },
  "cells": [
    {
      "cell_type": "markdown",
      "metadata": {
        "id": "view-in-github",
        "colab_type": "text"
      },
      "source": [
        "<a href=\"https://colab.research.google.com/github/Smrity05/Python/blob/main/SecondPythonCode.ipynb\" target=\"_parent\"><img src=\"https://colab.research.google.com/assets/colab-badge.svg\" alt=\"Open In Colab\"/></a>"
      ]
    },
    {
      "cell_type": "code",
      "execution_count": null,
      "metadata": {
        "id": "GPWQd2jzi4a_"
      },
      "outputs": [],
      "source": [
        "#Enter n User data\n",
        "\n",
        "def enter_user_data(n):\n",
        "    user_data = []\n",
        "\n",
        "    for i in range(n):\n",
        "        username = input(f\"Enter the username for user {i+1}: \")\n",
        "        age = int(input(f\"Enter the age for user {i+1}: \"))\n",
        "        user_data.append((username, age))\n",
        "\n",
        "    return user_data\n",
        "\n",
        "# Example usage\n",
        "n = int(input(\"Enter the number of users: \"))\n",
        "users = enter_user_data(n)"
      ]
    }
  ]
}