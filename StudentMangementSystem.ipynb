{
  "nbformat": 4,
  "nbformat_minor": 0,
  "metadata": {
    "colab": {
      "provenance": [],
      "authorship_tag": "ABX9TyOISc+aV62X8nb1k6NEfDo8",
      "include_colab_link": true
    },
    "kernelspec": {
      "name": "python3",
      "display_name": "Python 3"
    },
    "language_info": {
      "name": "python"
    }
  },
  "cells": [
    {
      "cell_type": "markdown",
      "metadata": {
        "id": "view-in-github",
        "colab_type": "text"
      },
      "source": [
        "<a href=\"https://colab.research.google.com/github/Smrity05/Python/blob/main/StudentMangementSystem.ipynb\" target=\"_parent\"><img src=\"https://colab.research.google.com/assets/colab-badge.svg\" alt=\"Open In Colab\"/></a>"
      ]
    },
    {
      "cell_type": "code",
      "execution_count": null,
      "metadata": {
        "id": "NCyxCoWePjvk"
      },
      "outputs": [],
      "source": [
        "# Create an empty dictionary to store student records\n",
        "students = {}\n",
        "\n",
        "# Function to add a new student record\n",
        "def add_student(student_id, name, grades):\n",
        "    students[student_id] = {'name': name, 'grades': grades}\n",
        "    print(f\"Student {name} added successfully.\")\n",
        "\n",
        "# Function to update a student's grades\n",
        "def update_grades(student_id, subject, grade):\n",
        "    if student_id in students:\n",
        "        students[student_id]['grades'][subject] = grade\n",
        "        print(f\"Grades updated for {students[student_id]['name']}.\")\n",
        "    else:\n",
        "        print(\"Student ID not found.\")\n",
        "\n",
        "# Function to display a student's grades\n",
        "def display_grades(student_id):\n",
        "    if student_id in students:\n",
        "        name = students[student_id]['name']\n",
        "        grades = students[student_id]['grades']\n",
        "        print(f\"{name}'s Grades: {grades}\")\n",
        "    else:\n",
        "        print(\"Student ID not found.\")\n",
        "\n",
        "# Function to calculate the average grade for a student\n",
        "def calculate_average(student_id):\n",
        "    if student_id in students:\n",
        "        grades = students[student_id]['grades'].values()\n",
        "        avg = sum(grades) / len(grades)\n",
        "        print(f\"Average grade for {students[student_id]['name']}: {avg:.2f}\")\n",
        "    else:\n",
        "        print(\"Student ID not found.\")\n",
        "\n",
        "# Function to list students who passed a certain grade in a subject\n",
        "def students_passing_subject(subject, passing_grade):\n",
        "    passing_students = []\n",
        "    for student_id, student_data in students.items():\n",
        "        if subject in student_data['grades'] and student_data['grades'][subject] >= passing_grade:\n",
        "            passing_students.append(student_data['name'])\n",
        "    print(f\"Students passing {subject}: {', '.join(passing_students)}\")\n",
        "\n",
        "# Function to find students who have the same grade in a subject (using sets)\n",
        "def find_students_with_same_grade(subject):\n",
        "    grade_sets = {}\n",
        "    for student_id, student_data in students.items():\n",
        "        if subject in student_data['grades']:\n",
        "            grade = student_data['grades'][subject]\n",
        "            if grade not in grade_sets:\n",
        "                grade_sets[grade] = set()\n",
        "            grade_sets[grade].add(student_data['name'])\n",
        "\n",
        "    for grade, names in grade_sets.items():\n",
        "        if len(names) > 1:  # If more than one student has the same grade\n",
        "            print(f\"Students with grade {grade} in {subject}: {', '.join(names)}\")\n",
        "\n",
        "# Example Usage\n",
        "\n",
        "# Add students\n",
        "add_student(1, \"Alice\", {\"Math\": 85, \"Science\": 90, \"History\": 88})\n",
        "add_student(2, \"Bob\", {\"Math\": 70, \"Science\": 60, \"History\": 75})\n",
        "add_student(3, \"Charlie\", {\"Math\": 85, \"Science\": 80, \"History\": 92})\n",
        "\n",
        "# Update grades\n",
        "update_grades(2, \"Math\", 80)\n",
        "\n",
        "# Display grades\n",
        "display_grades(1)\n",
        "\n",
        "# Calculate average grades\n",
        "calculate_average(2)\n",
        "\n",
        "# List students passing Science with a threshold of 70\n",
        "students_passing_subject(\"Science\", 70)\n",
        "\n",
        "# Find students with the same grade in Math\n",
        "find_students_with_same_grade(\"Math\")\n"
      ]
    }
  ]
}